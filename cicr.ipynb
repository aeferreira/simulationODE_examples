{
 "cells": [
  {
   "cell_type": "code",
   "execution_count": null,
   "metadata": {
    "slideshow": {
     "slide_type": "slide"
    }
   },
   "outputs": [],
   "source": [
    "from matplotlib import pyplot as plt\n",
    "import seaborn as sns\n",
    "\n",
    "from stimator import read_model\n",
    "from ipywidgets import interact\n",
    "%matplotlib inline\n",
    "\n",
    "styles = ['seaborn-whitegrid', 'seaborn-poster']"
   ]
  },
  {
   "cell_type": "markdown",
   "metadata": {
    "slideshow": {
     "slide_type": "slide"
    }
   },
   "source": [
    "# Exemplo: dinâmicas variadas em sinalização celular"
   ]
  },
  {
   "cell_type": "markdown",
   "metadata": {
    "slideshow": {
     "slide_type": "slide"
    }
   },
   "source": [
    "## Modelo da resposta do ião cálcio intracelular a estímulos externos \n",
    "\n",
    "# (hormonas, fertilização, etc)"
   ]
  },
  {
   "cell_type": "markdown",
   "metadata": {
    "slideshow": {
     "slide_type": "slide"
    }
   },
   "source": [
    "### Componentes:\n",
    "\n",
    "- Recetor de membrana\n",
    "- IP3 como segundo mensageiro\n",
    "- Reservatório intracelular de cálcio sensível ao IP3\n",
    "- Reservatório intracelular de cálcio sensível ao cálcio citosólico\n",
    "- Transportes ativos, perdas, assimilação de cálcio do exterior, etc"
   ]
  },
  {
   "cell_type": "markdown",
   "metadata": {
    "slideshow": {
     "slide_type": "slide"
    }
   },
   "source": [
    "![](images/cicr.png)"
   ]
  },
  {
   "cell_type": "markdown",
   "metadata": {
    "slideshow": {
     "slide_type": "slide"
    }
   },
   "source": [
    "![](images/simple_cicr.png)"
   ]
  },
  {
   "cell_type": "markdown",
   "metadata": {
    "slideshow": {
     "slide_type": "slide"
    }
   },
   "source": [
    "Neste modelo, o parâmetro $\\beta$ representa a intensidade do estímulo, variando no intervalo $[0, 1]$. \n",
    "\n",
    "$0$ significa ausência de estímulo  e $1$ significa o estímulo máximo (100%).\n",
    "\n",
    "&nbsp;"
   ]
  },
  {
   "cell_type": "markdown",
   "metadata": {},
   "source": [
    "Podemos simular o comportamento deste modelo para diferentes valores de $\\beta$.\n",
    "\n",
    "(Nota: Na declaração do modelo, o parâmetro $\\beta$ é representado por `B`.)"
   ]
  },
  {
   "cell_type": "code",
   "execution_count": null,
   "metadata": {
    "slideshow": {
     "slide_type": "slide"
    }
   },
   "outputs": [],
   "source": [
    "m = read_model(\"\"\"\n",
    "title Calcium Spikes\n",
    "v0         = -> Ca, 1\n",
    "v1         = -> Ca, k1*B*step(t, 1.0)\n",
    "k1         = 7.3\n",
    "B          = 0.1\n",
    "export     = Ca ->  , 10 ..\n",
    "leak       = CaComp -> Ca, 1 ..\n",
    "!! Ca\n",
    "v2         = Ca -> CaComp, 65 * Ca**2 / (1+Ca**2)\n",
    "v3         = CaComp -> Ca, 500*CaComp**2/(CaComp**2+4) * Ca**4/(Ca**4 + 0.6561)\n",
    "init       = state(Ca = 0.1, CaComp = 0.63655)\"\"\")"
   ]
  },
  {
   "cell_type": "code",
   "execution_count": null,
   "metadata": {
    "slideshow": {
     "slide_type": "slide"
    }
   },
   "outputs": [],
   "source": [
    "@interact(B=(0.0, 1.0, 0.01))\n",
    "def stimulate(B=0.1):\n",
    "    m.parameters.B = B\n",
    "    m.solve(tf=8.0, npoints=2000, title='Cytosolic $Ca^{2+}$, $\\\\beta$ = %g' % B).plot(fig_size = (9,6), yrange=(0,1.5), legend=False, style=styles)"
   ]
  },
  {
   "cell_type": "markdown",
   "metadata": {
    "slideshow": {
     "slide_type": "skip"
    }
   },
   "source": [
    "Para os que estão a ler uma versão estática deste notebook, a variação do estímulo ($\\beta$) tem o seguinte efeito no comportamento do cálcio citosólico:"
   ]
  },
  {
   "cell_type": "code",
   "execution_count": null,
   "metadata": {
    "slideshow": {
     "slide_type": "slide"
    }
   },
   "outputs": [],
   "source": [
    "m = read_model(\"\"\"\n",
    "title Calcium Spikes\n",
    "v0         = -> Ca, 1\n",
    "v1         = -> Ca, k1*B*step(t, 1.0)\n",
    "k1         = 7.3\n",
    "B          = 0.1\n",
    "export     = Ca ->  , 10 ..\n",
    "leak       = CaComp -> Ca, 1 ..\n",
    "!! Ca\n",
    "v2         = Ca -> CaComp, 65 * Ca**2 / (1+Ca**2)\n",
    "v3         = CaComp -> Ca, 500*CaComp**2/(CaComp**2+4) * Ca**4/(Ca**4 + 0.6561)\n",
    "init       = state(Ca = 0.1, CaComp = 0.63655)\"\"\")\n",
    "\n",
    "stimulus = (0.0, 0.1, 0.2, 0.25, 0.28, 0.29, 0.3, 0.35, 0.4, 0.45, 0.5, 0.6, 0.75, 0.8, 0.9, 1.0)\n",
    "titles = ['$\\\\beta$ = %g' % B for B in stimulus]\n",
    "\n",
    "s = m.scan({'B':stimulus}, tf=8.0, npoints=1000)"
   ]
  },
  {
   "cell_type": "code",
   "execution_count": null,
   "metadata": {
    "slideshow": {
     "slide_type": "slide"
    }
   },
   "outputs": [],
   "source": [
    "s.plot(yrange=(0, 1.5), titles=titles,\n",
    "       legend=False, fig_size=(18.0, 13.0),\n",
    "       suptitlegend=\"Dynamics of cytosolic $Ca^{2+}$ as a function of stimulus\")"
   ]
  }
 ],
 "metadata": {
  "celltoolbar": "Slideshow",
  "kernelspec": {
   "display_name": "Python 3 (ipykernel)",
   "language": "python",
   "name": "python3"
  },
  "language_info": {
   "codemirror_mode": {
    "name": "ipython",
    "version": 3
   },
   "file_extension": ".py",
   "mimetype": "text/x-python",
   "name": "python",
   "nbconvert_exporter": "python",
   "pygments_lexer": "ipython3",
   "version": "3.8.5"
  },
  "rise": {
   "transition": "fade"
  }
 },
 "nbformat": 4,
 "nbformat_minor": 1
}
