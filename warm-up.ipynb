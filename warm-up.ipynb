{
 "cells": [
  {
   "cell_type": "markdown",
   "metadata": {
    "slideshow": {
     "slide_type": "slide"
    }
   },
   "source": [
    "### Episódio 3\n",
    "# Warm-up examples"
   ]
  },
  {
   "cell_type": "code",
   "execution_count": null,
   "metadata": {
    "slideshow": {
     "slide_type": "slide"
    }
   },
   "outputs": [],
   "source": [
    "# imports e \"configuração\"\n",
    "%matplotlib inline\n",
    "from stimator import read_model\n",
    "from ipywidgets import interact\n",
    "import seaborn as sns\n",
    "\n",
    "from classhelper import tc2df, last_time_as_series\n",
    "\n",
    "styles = ['seaborn-whitegrid', 'seaborn-poster']"
   ]
  },
  {
   "cell_type": "markdown",
   "metadata": {
    "slideshow": {
     "slide_type": "slide"
    }
   },
   "source": [
    "## exemplo 1: Sistema fechado, uma reação reversível Michaelis-Menten"
   ]
  },
  {
   "cell_type": "markdown",
   "metadata": {
    "slideshow": {
     "slide_type": "slide"
    }
   },
   "source": [
    "![](images/closed.png)"
   ]
  },
  {
   "cell_type": "markdown",
   "metadata": {
    "slideshow": {
     "slide_type": "slide"
    }
   },
   "source": [
    "#### O que se pode prever sobre este sistema?\n",
    "\n",
    "- ????\n",
    "-?????"
   ]
  },
  {
   "cell_type": "code",
   "execution_count": null,
   "metadata": {
    "slideshow": {
     "slide_type": "slide"
    }
   },
   "outputs": [],
   "source": [
    "model1 = read_model(\"\"\"\n",
    "title Closed system, reversible Michaelis-Menten enzyme\n",
    "\n",
    "v1: A -> P, (V * (A - P / Keq)) / (1 + A/KmA + P/KmP)\n",
    "\n",
    "V = 1\n",
    "Keq = 2\n",
    "\n",
    "KmA = 2\n",
    "KmP = 1\n",
    "\n",
    "init: A = 12, P = 0\n",
    "\n",
    "\"\"\")"
   ]
  },
  {
   "cell_type": "code",
   "execution_count": null,
   "metadata": {
    "slideshow": {
     "slide_type": "slide"
    }
   },
   "outputs": [],
   "source": [
    "result = model1.solve(tf=40)\n",
    "tc2df(result)"
   ]
  },
  {
   "cell_type": "code",
   "execution_count": null,
   "metadata": {
    "scrolled": false,
    "slideshow": {
     "slide_type": "slide"
    }
   },
   "outputs": [],
   "source": [
    "model1.solve(tf=40).plot(fig_size=(12,8), style=styles)"
   ]
  },
  {
   "cell_type": "markdown",
   "metadata": {
    "slideshow": {
     "slide_type": "slide"
    }
   },
   "source": [
    "### Changing parameters\n",
    "\n",
    "- the initial value of A \n",
    "- the value of KmA"
   ]
  },
  {
   "cell_type": "code",
   "execution_count": null,
   "metadata": {
    "slideshow": {
     "slide_type": "slide"
    }
   },
   "outputs": [],
   "source": [
    "@interact(A=(6, 12, 0.5), KmA=(1, 5, 0.1))\n",
    "def change_A(A=12, KmA=2):\n",
    "    model1.init.A = A\n",
    "    model1.parameters.KmA = KmA\n",
    "    model1.solve(tf=40).plot(fig_size=(12,8), yrange=(0,12), style=styles)"
   ]
  },
  {
   "cell_type": "markdown",
   "metadata": {
    "slideshow": {
     "slide_type": "slide"
    }
   },
   "source": [
    "## Exemplo 2: sistema fechado, várias reações reversíveis Michaelis-Menten"
   ]
  },
  {
   "cell_type": "markdown",
   "metadata": {
    "slideshow": {
     "slide_type": "slide"
    }
   },
   "source": [
    "![](images/closed_multi.png)"
   ]
  },
  {
   "cell_type": "markdown",
   "metadata": {
    "slideshow": {
     "slide_type": "slide"
    }
   },
   "source": [
    "O que se pode prever sobre este sistema?\n",
    "\n",
    "- ??????\n",
    "- ????????"
   ]
  },
  {
   "cell_type": "code",
   "execution_count": null,
   "metadata": {
    "slideshow": {
     "slide_type": "slide"
    }
   },
   "outputs": [],
   "source": [
    "model2 = read_model(\"\"\"\n",
    "title Linear pathway\n",
    "\n",
    "v1: A -> B, (V * (A - B / Keq)) / (1 + A/KmA + B/KmB), V = 1, Keq = 2, KmA = 2, KmB = 1\n",
    "v2: B -> C, (V * (B - C / Keq)) / (1 + B/KmB + C/KmC), V = 0.5, Keq = 2, KmB = 2, KmC = 1\n",
    "v3: C -> D, (V * (C - D / Keq)) / (1 + C/KmC + D/KmD), V = 1, Keq = 2, KmC = 2, KmD = 1\n",
    "\n",
    "init: A = 12\n",
    "\n",
    "\"\"\")"
   ]
  },
  {
   "cell_type": "code",
   "execution_count": null,
   "metadata": {
    "slideshow": {
     "slide_type": "slide"
    }
   },
   "outputs": [],
   "source": [
    "model2.solve(tf=150).plot(fig_size=(12,8), style=styles)"
   ]
  },
  {
   "cell_type": "code",
   "execution_count": null,
   "metadata": {
    "slideshow": {
     "slide_type": "slide"
    }
   },
   "outputs": [],
   "source": [
    "steady_state = last_time_as_series(model2.solve(tf=2000))\n",
    "\n",
    "steady_state"
   ]
  },
  {
   "cell_type": "code",
   "execution_count": null,
   "metadata": {
    "slideshow": {
     "slide_type": "slide"
    }
   },
   "outputs": [],
   "source": [
    "A, B, C, D = steady_state.values\n",
    "\n",
    "print(f'B/A = {B/A:.2f}')\n",
    "print(f'C/B = {C/B:.2f}')\n",
    "print(f'D/C = {D/C:.2f}')"
   ]
  },
  {
   "cell_type": "markdown",
   "metadata": {},
   "source": [
    "#### Este sistema, por ser fechado, tende para um equilíbrio"
   ]
  },
  {
   "cell_type": "markdown",
   "metadata": {
    "slideshow": {
     "slide_type": "slide"
    }
   },
   "source": [
    "## Exemplo 3: Sistema aberto\n",
    "## várias reações reversíveis Michaelis-Menten\n",
    "## (via metabólica genérica)"
   ]
  },
  {
   "cell_type": "markdown",
   "metadata": {
    "slideshow": {
     "slide_type": "slide"
    }
   },
   "source": [
    "![](images/open_linear.png)"
   ]
  },
  {
   "cell_type": "markdown",
   "metadata": {
    "slideshow": {
     "slide_type": "slide"
    }
   },
   "source": [
    "O que se pode prever sobre este sistema?\n",
    "\n",
    "- ??????\n",
    "- ????????"
   ]
  },
  {
   "cell_type": "code",
   "execution_count": null,
   "metadata": {
    "slideshow": {
     "slide_type": "slide"
    }
   },
   "outputs": [],
   "source": [
    "model3 = read_model(\"\"\"\n",
    "title Linear pathway\n",
    "\n",
    "v1: A -> B, (V * (A - B / Keq)) / (1 + A/KmA + B/KmB), V = 1, Keq = 2, KmA = 2, KmB = 1\n",
    "v2: B -> C, (V * (B - C / Keq)) / (1 + B/KmB + C/KmC), V = 0.5, Keq = 2, KmB = 2, KmC = 1\n",
    "v3: C -> D, (V * (C - D / Keq)) / (1 + C/KmC + D/KmD), V = 1, Keq = 2, KmC = 2, KmD = 1\n",
    "\n",
    "vAin  : -> A, kin, kin = 1\n",
    "vAout : A ->, koutA * A, koutA = 1\n",
    "\n",
    "vout  : D ->, kout * D, kout = 2\n",
    "\"\"\")"
   ]
  },
  {
   "cell_type": "code",
   "execution_count": null,
   "metadata": {
    "slideshow": {
     "slide_type": "slide"
    }
   },
   "outputs": [],
   "source": [
    "model3.solve(tf=40).plot(fig_size=(12,8), style=styles)"
   ]
  },
  {
   "cell_type": "markdown",
   "metadata": {
    "slideshow": {
     "slide_type": "slide"
    }
   },
   "source": [
    "#### Calcular os valôres de **estado estacionário**"
   ]
  },
  {
   "cell_type": "code",
   "execution_count": null,
   "metadata": {
    "slideshow": {
     "slide_type": "slide"
    }
   },
   "outputs": [],
   "source": [
    "# Se simularmos até um tf muito elevado, estamos no estado estacionário\n",
    "\n",
    "steady_state = last_time_as_series(model3.solve(tf=2000))\n",
    "\n",
    "steady_state"
   ]
  },
  {
   "cell_type": "code",
   "execution_count": null,
   "metadata": {
    "slideshow": {
     "slide_type": "slide"
    }
   },
   "outputs": [],
   "source": [
    "A, B, C, D = steady_state.values\n",
    "\n",
    "print(f'B/A = {B/A:.2f}')\n",
    "print(f'C/B = {C/B:.2f}')\n",
    "print(f'D/C = {D/C:.2f}')"
   ]
  },
  {
   "cell_type": "markdown",
   "metadata": {
    "slideshow": {
     "slide_type": "slide"
    }
   },
   "source": [
    "#### Os valores de estado estacionário **NÃO** são os de equilíbrio"
   ]
  },
  {
   "cell_type": "markdown",
   "metadata": {
    "slideshow": {
     "slide_type": "slide"
    }
   },
   "source": [
    "#### Calcular os valôres das velocidades em **estado estacionário**"
   ]
  },
  {
   "cell_type": "code",
   "execution_count": null,
   "metadata": {
    "slideshow": {
     "slide_type": "slide"
    }
   },
   "outputs": [],
   "source": [
    "steady_state = model3.solve(tf=20, outputs='>>').plot(fig_size=(12,8), style=styles)"
   ]
  },
  {
   "cell_type": "markdown",
   "metadata": {
    "slideshow": {
     "slide_type": "slide"
    }
   },
   "source": [
    "#### Changing the parameter $kin$ (rate of input of A into the pathway)"
   ]
  },
  {
   "cell_type": "code",
   "execution_count": null,
   "metadata": {
    "slideshow": {
     "slide_type": "slide"
    }
   },
   "outputs": [],
   "source": [
    "@interact(kin=(1, 5, 0.2))\n",
    "def change_kin(kin=1):\n",
    "    model3.parameters.vAin.kin = kin\n",
    "    model3.solve(tf=20).plot(fig_size=(12,8), yrange=(0,4), style=styles)"
   ]
  },
  {
   "cell_type": "markdown",
   "metadata": {
    "slideshow": {
     "slide_type": "slide"
    }
   },
   "source": [
    "#### Changing the parameter $kin$ (rate of input of A into the pathway), but displying the rates of reactions"
   ]
  },
  {
   "cell_type": "code",
   "execution_count": null,
   "metadata": {
    "slideshow": {
     "slide_type": "slide"
    }
   },
   "outputs": [],
   "source": [
    "@interact(kin=(1, 5, 0.2))\n",
    "def change_kin(kin=1):\n",
    "    model3.parameters.vAin.kin = kin\n",
    "    model3.solve(tf=20, outputs='v1 v2 v3'.split()).plot(fig_size=(12,8), yrange=(0,1), style=styles)"
   ]
  }
 ],
 "metadata": {
  "celltoolbar": "Slideshow",
  "kernelspec": {
   "display_name": "Python 3 (ipykernel)",
   "language": "python",
   "name": "python3"
  },
  "language_info": {
   "codemirror_mode": {
    "name": "ipython",
    "version": 3
   },
   "file_extension": ".py",
   "mimetype": "text/x-python",
   "name": "python",
   "nbconvert_exporter": "python",
   "pygments_lexer": "ipython3",
   "version": "3.8.5"
  },
  "rise": {
   "scroll": true,
   "transition": "fade"
  }
 },
 "nbformat": 4,
 "nbformat_minor": 1
}
