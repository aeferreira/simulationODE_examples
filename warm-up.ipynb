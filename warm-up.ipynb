{
 "cells": [
  {
   "cell_type": "markdown",
   "metadata": {
    "slideshow": {
     "slide_type": "slide"
    }
   },
   "source": [
    "# Warm-up examples"
   ]
  },
  {
   "cell_type": "code",
   "execution_count": null,
   "metadata": {
    "slideshow": {
     "slide_type": "slide"
    }
   },
   "outputs": [],
   "source": [
    "%matplotlib inline\n",
    "from stimator import read_model\n",
    "from ipywidgets import interact"
   ]
  },
  {
   "cell_type": "markdown",
   "metadata": {
    "slideshow": {
     "slide_type": "slide"
    }
   },
   "source": [
    "## Closed system, reversible Michaelis-Menten enzyme\n",
    "\n",
    "<span style=\"font-size:150%;\">A ⇄ P</span>, catalyzed by an enzyme with kinetics $v = (V \\cdot (A - \\frac{P}{K_{eq}}))\\:/\\: (1 + \\frac{A}{K_{mA}} + \\frac{P}{K_{mP}})$"
   ]
  },
  {
   "cell_type": "code",
   "execution_count": null,
   "metadata": {
    "slideshow": {
     "slide_type": "slide"
    }
   },
   "outputs": [],
   "source": [
    "model = read_model(\"\"\"\n",
    "title Closed system, reversible Michaelis-Menten enzyme\n",
    "\n",
    "v1: A -> P, (V * (A - P / Keq)) / (1 + A/KmA + P/KmP)\n",
    "\n",
    "V = 1\n",
    "Keq = 2\n",
    "\n",
    "KmA = 2\n",
    "KmP = 1\n",
    "\n",
    "init: A = 12, P = 0\n",
    "\n",
    "\"\"\")"
   ]
  },
  {
   "cell_type": "markdown",
   "metadata": {
    "slideshow": {
     "slide_type": "slide"
    }
   },
   "source": [
    "<span style=\"font-size:150%;\">A ⇄ P</span>, catalyzed by an enzyme with kinetics $v = (V \\cdot (A - \\frac{P}{K_{eq}}))\\:/\\: (1 + \\frac{A}{K_{mA}} + \\frac{P}{K_{mP}})$"
   ]
  },
  {
   "cell_type": "code",
   "execution_count": null,
   "metadata": {
    "scrolled": true,
    "slideshow": {
     "slide_type": "-"
    }
   },
   "outputs": [],
   "source": [
    "model.solve(tf=40).plot(fig_size=(12,8))"
   ]
  },
  {
   "cell_type": "markdown",
   "metadata": {
    "slideshow": {
     "slide_type": "slide"
    }
   },
   "source": [
    "<span style=\"font-size:150%;\">A ⇄ P</span>, changing the initial value of A (the initial value of P is 0)"
   ]
  },
  {
   "cell_type": "code",
   "execution_count": null,
   "metadata": {
    "slideshow": {
     "slide_type": "-"
    }
   },
   "outputs": [],
   "source": [
    "@interact(A=(6, 12, 0.5))\n",
    "def change_A(A=12):\n",
    "    model.init.A = A\n",
    "    model.solve(tf=40).plot(fig_size=(12,8), yrange=(0,12))"
   ]
  },
  {
   "cell_type": "markdown",
   "metadata": {
    "slideshow": {
     "slide_type": "slide"
    }
   },
   "source": [
    "<span style=\"font-size:150%;\">A ⇄ P</span>, changing the parameter $Km_A$ (Km for substrate)"
   ]
  },
  {
   "cell_type": "code",
   "execution_count": null,
   "metadata": {
    "slideshow": {
     "slide_type": "-"
    }
   },
   "outputs": [],
   "source": [
    "@interact(KmA=(1, 5, 0.1))\n",
    "def change_KmA(KmA=2):\n",
    "    model.parameters.KmA = KmA\n",
    "    model.solve(tf=40).plot(fig_size=(12,8), yrange=(0,12))"
   ]
  },
  {
   "cell_type": "markdown",
   "metadata": {
    "slideshow": {
     "slide_type": "slide"
    }
   },
   "source": [
    "## Open system (linear pathway), several reversible Michaelis-Menten enzymes\n",
    "\n",
    "<span style=\"font-size:150%;\">&ReverseEquilibrium; A ⇄ B ⇄ C ⇄ D &rarr;</span>"
   ]
  },
  {
   "cell_type": "code",
   "execution_count": null,
   "metadata": {
    "slideshow": {
     "slide_type": "slide"
    }
   },
   "outputs": [],
   "source": [
    "model = read_model(\"\"\"\n",
    "title Linear pathway\n",
    "\n",
    "v1: A -> B, (V * (A - B / Keq)) / (1 + A/KmA + B/KmB), V = 1, Keq = 2, KmA = 2, KmB = 1\n",
    "v2: B -> C, (V * (B - C / Keq)) / (1 + B/KmB + C/KmC), V = 0.5, Keq = 2, KmB = 2, KmC = 1\n",
    "v3: C -> D, (V * (C - D / Keq)) / (1 + C/KmC + D/KmD), V = 1, Keq = 2, KmC = 2, KmD = 1\n",
    "\n",
    "vAin  : -> A, kin, kin = 1\n",
    "vAout : A ->, koutA * A, koutA = 1\n",
    "\n",
    "vout  : D ->, kout * D, kout = 2\n",
    "\"\"\")\n",
    "\n",
    "model.solve(tf=20).plot(fig_size=(12,8))"
   ]
  },
  {
   "cell_type": "markdown",
   "metadata": {
    "slideshow": {
     "slide_type": "slide"
    }
   },
   "source": [
    "<span style=\"font-size:150%;\">&ReverseEquilibrium; A ⇄ B ⇄ C ⇄ D &rarr;</span>, computing the values at **steady-state**"
   ]
  },
  {
   "cell_type": "code",
   "execution_count": null,
   "metadata": {
    "slideshow": {
     "slide_type": "-"
    }
   },
   "outputs": [],
   "source": [
    "steady_state = model.solve(tf=20).last\n",
    "\n",
    "print(steady_state, '\\n')\n",
    "\n",
    "A, B, C, D = steady_state['A'], steady_state['B'], steady_state['C'], steady_state['D']\n",
    "\n",
    "print('B/A =', B/A)\n",
    "print('C/B =', C/B)\n",
    "print('D/C =', D/C)"
   ]
  },
  {
   "cell_type": "markdown",
   "metadata": {
    "slideshow": {
     "slide_type": "slide"
    }
   },
   "source": [
    "<span style=\"font-size:150%;\">&ReverseEquilibrium; A ⇄ B ⇄ C ⇄ D &rarr;</span>, computing the rates of reactions at **steady-state**"
   ]
  },
  {
   "cell_type": "code",
   "execution_count": null,
   "metadata": {
    "slideshow": {
     "slide_type": "-"
    }
   },
   "outputs": [],
   "source": [
    "steady_state = model.solve(tf=20, outputs='>>').plot(fig_size=(12,8))"
   ]
  },
  {
   "cell_type": "markdown",
   "metadata": {
    "slideshow": {
     "slide_type": "slide"
    }
   },
   "source": [
    "<span style=\"font-size:150%;\">&ReverseEquilibrium; A ⇄ B ⇄ C ⇄ D &rarr;</span>, changing the parameter $kin$ (rate of input of A into the pathway)"
   ]
  },
  {
   "cell_type": "code",
   "execution_count": null,
   "metadata": {
    "slideshow": {
     "slide_type": "-"
    }
   },
   "outputs": [],
   "source": [
    "@interact(kin=(1, 5, 0.2))\n",
    "def change_kin(kin=1):\n",
    "    model.parameters.vAin.kin = kin\n",
    "    model.solve(tf=20).plot(fig_size=(12,8), yrange=(0,4))"
   ]
  },
  {
   "cell_type": "markdown",
   "metadata": {
    "slideshow": {
     "slide_type": "slide"
    }
   },
   "source": [
    "<span style=\"font-size:150%;\">&ReverseEquilibrium; A ⇄ B ⇄ C ⇄ D &rarr;</span>, changing the parameter $kin$ (rate of input of A into the pathway), but displying the rates of reactions"
   ]
  },
  {
   "cell_type": "code",
   "execution_count": null,
   "metadata": {
    "slideshow": {
     "slide_type": "-"
    }
   },
   "outputs": [],
   "source": [
    "@interact(kin=(1, 5, 0.2))\n",
    "def change_kin(kin=1):\n",
    "    model.parameters.vAin.kin = kin\n",
    "    model.solve(tf=20, outputs='v1 v2 v3'.split()).plot(fig_size=(12,8), yrange=(0,1))"
   ]
  }
 ],
 "metadata": {
  "kernelspec": {
   "display_name": "Python 3",
   "language": "python",
   "name": "python3"
  },
  "language_info": {
   "codemirror_mode": {
    "name": "ipython",
    "version": 3
   },
   "file_extension": ".py",
   "mimetype": "text/x-python",
   "name": "python",
   "nbconvert_exporter": "python",
   "pygments_lexer": "ipython3",
   "version": "3.7.6"
  },
  "rise": {
   "transition": "fade"
  }
 },
 "nbformat": 4,
 "nbformat_minor": 1
}
