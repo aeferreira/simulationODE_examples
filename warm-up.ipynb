{
 "cells": [
  {
   "cell_type": "markdown",
   "metadata": {
    "slideshow": {
     "slide_type": "slide"
    }
   },
   "source": [
    "# Warm-up examples"
   ]
  },
  {
   "cell_type": "code",
   "execution_count": null,
   "metadata": {
    "slideshow": {
     "slide_type": "slide"
    }
   },
   "outputs": [],
   "source": [
    "%matplotlib inline\n",
    "from stimator import read_model\n",
    "from ipywidgets import interact\n",
    "import seaborn as sns\n",
    "\n",
    "from classhelper import tc2df\n",
    "\n",
    "styles = ['seaborn-whitegrid', 'seaborn-poster']"
   ]
  },
  {
   "cell_type": "markdown",
   "metadata": {
    "slideshow": {
     "slide_type": "slide"
    }
   },
   "source": [
    "## Closed system, reversible Michaelis-Menten enzyme\n",
    "\n",
    "<span style=\"font-size:150%;\">A ⇄ P</span>, catalyzed by an enzyme with kinetics $v = (V \\cdot (A - \\frac{P}{K_{eq}}))\\:/\\: (1 + \\frac{A}{K_{mA}} + \\frac{P}{K_{mP}})$"
   ]
  },
  {
   "cell_type": "markdown",
   "metadata": {
    "slideshow": {
     "slide_type": "slide"
    }
   },
   "source": [
    "![](images/cicr.png)"
   ]
  },
  {
   "cell_type": "code",
   "execution_count": null,
   "metadata": {
    "slideshow": {
     "slide_type": "slide"
    }
   },
   "outputs": [],
   "source": [
    "model = read_model(\"\"\"\n",
    "title Closed system, reversible Michaelis-Menten enzyme\n",
    "\n",
    "v1: A -> P, (V * (A - P / Keq)) / (1 + A/KmA + P/KmP)\n",
    "\n",
    "V = 1\n",
    "Keq = 2\n",
    "\n",
    "KmA = 2\n",
    "KmP = 1\n",
    "\n",
    "init: A = 12, P = 0\n",
    "\n",
    "\"\"\")"
   ]
  },
  {
   "cell_type": "code",
   "execution_count": null,
   "metadata": {
    "slideshow": {
     "slide_type": "slide"
    }
   },
   "outputs": [],
   "source": [
    "result = model.solve(tf=40)\n",
    "tc2df(result)"
   ]
  },
  {
   "cell_type": "code",
   "execution_count": null,
   "metadata": {
    "scrolled": false,
    "slideshow": {
     "slide_type": "slide"
    }
   },
   "outputs": [],
   "source": [
    "model.solve(tf=40).plot(fig_size=(12,8), style=styles)"
   ]
  },
  {
   "cell_type": "markdown",
   "metadata": {
    "slideshow": {
     "slide_type": "slide"
    }
   },
   "source": [
    "### Changing parameters\n",
    "\n",
    "- the initial value of A \n",
    "- the value of KmA"
   ]
  },
  {
   "cell_type": "code",
   "execution_count": null,
   "metadata": {
    "slideshow": {
     "slide_type": "slide"
    }
   },
   "outputs": [],
   "source": [
    "@interact(A=(6, 12, 0.5), KmA=(1, 5, 0.1))\n",
    "def change_A(A=12, KmA=2):\n",
    "    model.init.A = A\n",
    "    model.parameters.KmA = KmA\n",
    "    model.solve(tf=40).plot(fig_size=(12,8), yrange=(0,12), style=styles)"
   ]
  },
  {
   "cell_type": "markdown",
   "metadata": {
    "slideshow": {
     "slide_type": "slide"
    }
   },
   "source": [
    "## Closed system, several reversible Michaelis-Menten enzymes"
   ]
  },
  {
   "cell_type": "markdown",
   "metadata": {
    "slideshow": {
     "slide_type": "slide"
    }
   },
   "source": [
    "![](closed_multi.png)"
   ]
  },
  {
   "cell_type": "code",
   "execution_count": null,
   "metadata": {
    "slideshow": {
     "slide_type": "slide"
    }
   },
   "outputs": [],
   "source": [
    "model = read_model(\"\"\"\n",
    "title Linear pathway\n",
    "\n",
    "v1: A -> B, (V * (A - B / Keq)) / (1 + A/KmA + B/KmB), V = 1, Keq = 2, KmA = 2, KmB = 1\n",
    "v2: B -> C, (V * (B - C / Keq)) / (1 + B/KmB + C/KmC), V = 0.5, Keq = 2, KmB = 2, KmC = 1\n",
    "v3: C -> D, (V * (C - D / Keq)) / (1 + C/KmC + D/KmD), V = 1, Keq = 2, KmC = 2, KmD = 1\n",
    "\n",
    "init: A = 12\n",
    "\n",
    "\"\"\")"
   ]
  },
  {
   "cell_type": "code",
   "execution_count": null,
   "metadata": {
    "slideshow": {
     "slide_type": "slide"
    }
   },
   "outputs": [],
   "source": [
    "model.solve(tf=150).plot(fig_size=(12,8), style=styles)"
   ]
  },
  {
   "cell_type": "code",
   "execution_count": null,
   "metadata": {
    "slideshow": {
     "slide_type": "slide"
    }
   },
   "outputs": [],
   "source": [
    "steady_state = model.solve(tf=2000).last\n",
    "\n",
    "steady_state"
   ]
  },
  {
   "cell_type": "code",
   "execution_count": null,
   "metadata": {
    "slideshow": {
     "slide_type": "slide"
    }
   },
   "outputs": [],
   "source": [
    "A, B, C, D = steady_state['A'], steady_state['B'], steady_state['C'], steady_state['D']\n",
    "\n",
    "r1 = B/A\n",
    "r2 = C/B\n",
    "r3 = D/C\n",
    "\n",
    "print(f'B/A = {r1:.2f}')\n",
    "print(f'C/B = {r2:.2f}')\n",
    "print(f'D/C = {r3:.2f}')"
   ]
  },
  {
   "cell_type": "markdown",
   "metadata": {
    "slideshow": {
     "slide_type": "slide"
    }
   },
   "source": [
    "## Open system, several reversible Michaelis-Menten enzymes (metabolic pathway)"
   ]
  },
  {
   "cell_type": "markdown",
   "metadata": {
    "slideshow": {
     "slide_type": "slide"
    }
   },
   "source": [
    "![](open_linear.png)"
   ]
  },
  {
   "cell_type": "code",
   "execution_count": null,
   "metadata": {
    "slideshow": {
     "slide_type": "slide"
    }
   },
   "outputs": [],
   "source": [
    "model = read_model(\"\"\"\n",
    "title Linear pathway\n",
    "\n",
    "v1: A -> B, (V * (A - B / Keq)) / (1 + A/KmA + B/KmB), V = 1, Keq = 2, KmA = 2, KmB = 1\n",
    "v2: B -> C, (V * (B - C / Keq)) / (1 + B/KmB + C/KmC), V = 0.5, Keq = 2, KmB = 2, KmC = 1\n",
    "v3: C -> D, (V * (C - D / Keq)) / (1 + C/KmC + D/KmD), V = 1, Keq = 2, KmC = 2, KmD = 1\n",
    "\n",
    "vAin  : -> A, kin, kin = 1\n",
    "vAout : A ->, koutA * A, koutA = 1\n",
    "\n",
    "vout  : D ->, kout * D, kout = 2\n",
    "\"\"\")"
   ]
  },
  {
   "cell_type": "code",
   "execution_count": null,
   "metadata": {
    "slideshow": {
     "slide_type": "slide"
    }
   },
   "outputs": [],
   "source": [
    "model.solve(tf=20).plot(fig_size=(12,8), style=styles)"
   ]
  },
  {
   "cell_type": "markdown",
   "metadata": {
    "slideshow": {
     "slide_type": "slide"
    }
   },
   "source": [
    "<span style=\"font-size:150%;\">&ReverseEquilibrium; A ⇄ B ⇄ C ⇄ D &rarr;</span>, computing the values at **steady-state**"
   ]
  },
  {
   "cell_type": "code",
   "execution_count": null,
   "metadata": {
    "slideshow": {
     "slide_type": "slide"
    }
   },
   "outputs": [],
   "source": [
    "steady_state = model.solve(tf=2000).last\n",
    "\n",
    "steady_state"
   ]
  },
  {
   "cell_type": "code",
   "execution_count": null,
   "metadata": {
    "slideshow": {
     "slide_type": "slide"
    }
   },
   "outputs": [],
   "source": [
    "A, B, C, D = steady_state['A'], steady_state['B'], steady_state['C'], steady_state['D']\n",
    "\n",
    "r1 = B/A\n",
    "r2 = C/B\n",
    "r3 = D/C\n",
    "\n",
    "print(f'B/A = {r1:.2f}')\n",
    "print(f'C/B = {r2:.2f}')\n",
    "print(f'D/C = {r3:.2f}')"
   ]
  },
  {
   "cell_type": "markdown",
   "metadata": {
    "slideshow": {
     "slide_type": "slide"
    }
   },
   "source": [
    "<span style=\"font-size:150%;\">&ReverseEquilibrium; A ⇄ B ⇄ C ⇄ D &rarr;</span>, computing the rates of reactions at **steady-state**"
   ]
  },
  {
   "cell_type": "code",
   "execution_count": null,
   "metadata": {
    "slideshow": {
     "slide_type": "slide"
    }
   },
   "outputs": [],
   "source": [
    "steady_state = model.solve(tf=20, outputs='>>').plot(fig_size=(12,8), style=styles)"
   ]
  },
  {
   "cell_type": "markdown",
   "metadata": {
    "slideshow": {
     "slide_type": "slide"
    }
   },
   "source": [
    "#### Changing the parameter $kin$ (rate of input of A into the pathway)"
   ]
  },
  {
   "cell_type": "code",
   "execution_count": null,
   "metadata": {
    "slideshow": {
     "slide_type": "slide"
    }
   },
   "outputs": [],
   "source": [
    "@interact(kin=(1, 5, 0.2))\n",
    "def change_kin(kin=1):\n",
    "    model.parameters.vAin.kin = kin\n",
    "    model.solve(tf=20).plot(fig_size=(12,8), yrange=(0,4), style=styles)"
   ]
  },
  {
   "cell_type": "markdown",
   "metadata": {
    "slideshow": {
     "slide_type": "slide"
    }
   },
   "source": [
    "#### Changing the parameter $kin$ (rate of input of A into the pathway), but displying the rates of reactions"
   ]
  },
  {
   "cell_type": "code",
   "execution_count": null,
   "metadata": {
    "slideshow": {
     "slide_type": "slide"
    }
   },
   "outputs": [],
   "source": [
    "@interact(kin=(1, 5, 0.2))\n",
    "def change_kin(kin=1):\n",
    "    model.parameters.vAin.kin = kin\n",
    "    model.solve(tf=20, outputs='v1 v2 v3'.split()).plot(fig_size=(12,8), yrange=(0,1), style=styles)"
   ]
  }
 ],
 "metadata": {
  "celltoolbar": "Slideshow",
  "kernelspec": {
   "display_name": "Python 3 (ipykernel)",
   "language": "python",
   "name": "python3"
  },
  "language_info": {
   "codemirror_mode": {
    "name": "ipython",
    "version": 3
   },
   "file_extension": ".py",
   "mimetype": "text/x-python",
   "name": "python",
   "nbconvert_exporter": "python",
   "pygments_lexer": "ipython3",
   "version": "3.8.5"
  },
  "rise": {
   "transition": "fade"
  }
 },
 "nbformat": 4,
 "nbformat_minor": 1
}
