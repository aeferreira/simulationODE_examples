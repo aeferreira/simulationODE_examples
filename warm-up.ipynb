{
 "cells": [
  {
   "cell_type": "markdown",
   "metadata": {},
   "source": [
    "# Warm-up examples"
   ]
  },
  {
   "cell_type": "markdown",
   "metadata": {},
   "source": [
    "These following imports are necessary.\n",
    "\n",
    "Worth mentioning are *stimator*, a library to support ODE-based modelling including parameter estimatiion from experimental data, and *ipywidgets*, on of the most popular widgets library for the jupyter notebook."
   ]
  },
  {
   "cell_type": "code",
   "execution_count": null,
   "metadata": {},
   "outputs": [],
   "source": [
    "%matplotlib inline\n",
    "import numpy as np\n",
    "from matplotlib import pyplot as pl\n",
    "\n",
    "from stimator import read_model\n",
    "from ipywidgets import interact"
   ]
  },
  {
   "cell_type": "markdown",
   "metadata": {},
   "source": [
    "## Closed system, reversible Michaelis-Menten enzyme\n",
    "\n",
    "<span style=\"font-size:150%;\">A ⇄ P</span>, catalyzed by an enzyme with kinetics\n",
    "\n",
    "$$v = \\frac{V \\cdot (A - p /K_{eq})}{1 + A  / K_{mA} + P /K_{mP}}$$"
   ]
  },
  {
   "cell_type": "code",
   "execution_count": null,
   "metadata": {},
   "outputs": [],
   "source": [
    "model = read_model(\"\"\"\n",
    "title Closed system, reversible Michaelis-Menten enzyme\n",
    "\n",
    "# the reactions considered in the system\n",
    "v1: A -> P, (V * (A - P / Keq)) / (1 + A/KmA + P/KmP)\n",
    "\n",
    "# parameters\n",
    "V = 1\n",
    "Keq = 2\n",
    "\n",
    "KmA = 2\n",
    "KmP = 1\n",
    "\n",
    "# initial state\n",
    "init: A = 12, P = 0\n",
    "\n",
    "\"\"\")"
   ]
  },
  {
   "cell_type": "markdown",
   "metadata": {},
   "source": [
    "Function `solve()` generates a time course of concentrations (A and P).\n",
    "\n",
    "Function `plot()` plots these time courses with sensible defaults"
   ]
  },
  {
   "cell_type": "code",
   "execution_count": null,
   "metadata": {},
   "outputs": [],
   "source": [
    "model.solve(tf=40).plot(fig_size=(12,8))"
   ]
  },
  {
   "cell_type": "markdown",
   "metadata": {},
   "source": [
    "Create and interactive cursor to change the initial value of A"
   ]
  },
  {
   "cell_type": "code",
   "execution_count": null,
   "metadata": {},
   "outputs": [],
   "source": [
    "@interact(A=(6, 12, 0.5))\n",
    "def change_A(A=12):\n",
    "    model.init.A = A\n",
    "    model.solve(tf=40).plot(fig_size=(12,8), yrange=(0,12))"
   ]
  },
  {
   "cell_type": "markdown",
   "metadata": {},
   "source": [
    "### RESULT : in a closed system, concentrations tend to constant values with the equilibrium ratio"
   ]
  },
  {
   "cell_type": "markdown",
   "metadata": {},
   "source": [
    "Now changing KmA"
   ]
  },
  {
   "cell_type": "code",
   "execution_count": null,
   "metadata": {},
   "outputs": [],
   "source": [
    "model.init.A = 12\n",
    "@interact(KmA=(1, 5, 0.1))\n",
    "def change_KmA(KmA=2):\n",
    "    model.parameters.KmA = KmA\n",
    "    model.solve(tf=40).plot(fig_size=(12,8), yrange=(0,12))"
   ]
  },
  {
   "cell_type": "markdown",
   "metadata": {},
   "source": [
    "## Open system (linear pathway), several reversible Michaelis-Menten enzymes\n",
    "\n",
    "<span style=\"font-size:150%;\">&ReverseEquilibrium; A ⇄ B ⇄ C ⇄ D &rarr;</span>"
   ]
  },
  {
   "cell_type": "markdown",
   "metadata": {},
   "source": [
    "Not much difference between thye enzymesm except V of second enzyme is lower than the others"
   ]
  },
  {
   "cell_type": "code",
   "execution_count": null,
   "metadata": {},
   "outputs": [],
   "source": [
    "model = read_model(\"\"\"\n",
    "title Open system, linear pathway\n",
    "\n",
    "v1: A -> B, (V * (A - B / Keq)) / (1 + A/KmA + B/KmB), V = 1, Keq = 2, KmA = 2, KmB = 1\n",
    "v2: B -> C, (V * (B - C / Keq)) / (1 + B/KmB + C/KmC), V = 0.5, Keq = 2, KmB = 2, KmC = 1\n",
    "v3: C -> D, (V * (C - D / Keq)) / (1 + C/KmC + D/KmD), V = 1, Keq = 2, KmC = 2, KmD = 1\n",
    "\n",
    "vAin  : -> A, kin, kin = 1\n",
    "vAout : A ->, koutA * A, koutA = 1\n",
    "\n",
    "vout  : D ->, kout * D, kout = 2\n",
    "\"\"\")\n",
    "\n",
    "model.solve(tf=20).plot(fig_size=(12,8))\n",
    "\n",
    "# Save a SVG image to use somewhere else\n",
    "pl.savefig('ss.svg')"
   ]
  },
  {
   "cell_type": "markdown",
   "metadata": {},
   "source": [
    "Concentrations tend to constant values, again, but do they verify equilibrium constants (2 for all the reactions)??"
   ]
  },
  {
   "cell_type": "code",
   "execution_count": null,
   "metadata": {},
   "outputs": [],
   "source": [
    "steady_state = model.solve(tf=20).last\n",
    "\n",
    "print(steady_state, '\\n')\n",
    "\n",
    "A, B, C, D = steady_state['A'], steady_state['B'], steady_state['C'], steady_state['D']\n",
    "\n",
    "print('B/A =', B/A)\n",
    "print('C/B =', C/B)\n",
    "print('D/C =', D/C)"
   ]
  },
  {
   "cell_type": "markdown",
   "metadata": {},
   "source": [
    "### Nota at all: concentrations approach a **steady state**, where they are all constant but do not verify equilibrium constants"
   ]
  },
  {
   "cell_type": "markdown",
   "metadata": {},
   "source": [
    "Now let's see what happens top the rates of reactions"
   ]
  },
  {
   "cell_type": "code",
   "execution_count": null,
   "metadata": {},
   "outputs": [],
   "source": [
    "steady_state = model.solve(tf=20, outputs='>>').plot(fig_size=(12,8))\n",
    "\n",
    "pl.savefig('flux.svg')"
   ]
  },
  {
   "cell_type": "markdown",
   "metadata": {},
   "source": [
    "### At steady state, all reaction rates of the linear pathway have the same (net) value.\n",
    "\n",
    "#### This value is called the *flux* of the pathway"
   ]
  },
  {
   "cell_type": "code",
   "execution_count": null,
   "metadata": {},
   "outputs": [],
   "source": [
    "@interact(kin=(1, 5, 0.2))\n",
    "def change_kin(kin=1):\n",
    "    model.parameters.vAin.kin = kin\n",
    "    model.solve(tf=20).plot(fig_size=(12,8), yrange=(0,4))"
   ]
  },
  {
   "cell_type": "code",
   "execution_count": null,
   "metadata": {},
   "outputs": [],
   "source": [
    "@interact(kin=(1, 5, 0.2))\n",
    "def change_kin(kin=1):\n",
    "    model.parameters.vAin.kin = kin\n",
    "    model.solve(tf=20, outputs='v1 v2 v3'.split()).plot(fig_size=(12,8), yrange=(0,1))"
   ]
  },
  {
   "cell_type": "markdown",
   "metadata": {},
   "source": [
    "We can plot the effect of changing parameter *kin* on the steady-state concentrations."
   ]
  },
  {
   "cell_type": "code",
   "execution_count": null,
   "metadata": {},
   "outputs": [],
   "source": [
    "f,s = pl.subplots(1,1, figsize=(16,9))\n",
    "\n",
    "values = np.linspace(1, 10, 20)\n",
    "scan_kin = model.scan({'vAin.kin': values}, tf=30)\n",
    "\n",
    "names = 'A', 'B', 'C', 'D'\n",
    "colors = 'navy', 'darkgreen', 'firebrick', 'orange'\n",
    "ss = {name: [tc.last[name] for tc in scan_kin] for name in names}\n",
    "\n",
    "for name, color in zip(names, colors):\n",
    "    pl.plot(values, ss[name], c=color, label=name, marker='o')\n",
    "\n",
    "pl.xlabel('$k_{inA}$', fontsize=16)\n",
    "pl.xlim(0,)\n",
    "pl.ylim(0,10)\n",
    "pl.grid()\n",
    "legend = pl.legend()"
   ]
  },
  {
   "cell_type": "markdown",
   "metadata": {},
   "source": [
    "### _kin_ seems to affect the steady-state concentrations differently.\n",
    "\n",
    "Let's see the same effect but this time let's scale by the values arounf the steady state with _kin_ = 1"
   ]
  },
  {
   "cell_type": "code",
   "execution_count": null,
   "metadata": {},
   "outputs": [],
   "source": [
    "f,s = pl.subplots(1,1, figsize=(16,9))\n",
    "\n",
    "# get the steady state at kin = 1\n",
    "\n",
    "model.parameters.vAin.kin = 1\n",
    "steady_state = model.solve(tf=50).last\n",
    "\n",
    "values = np.linspace(0.5, 1.5, 20)\n",
    "scan_kin = model.scan({'vAin.kin': values}, tf=50)\n",
    "\n",
    "names = 'A', 'B', 'C', 'D'\n",
    "colors = 'navy', 'darkgreen', 'firebrick', 'orange'\n",
    "ss = {name: [tc.last[name] for tc in scan_kin] for name in names}\n",
    "\n",
    "scaled_values = values / 1\n",
    "for name, color in zip(names, colors):\n",
    "    pl.plot(values, ss[name] / steady_state[name], c=color, label=name, marker='o')\n",
    "\n",
    "pl.xlabel('$k_{inA}$', fontsize=16)\n",
    "pl.xlim(0.5, 1.5)\n",
    "pl.ylim(0,2)\n",
    "pl.grid()\n",
    "legend = pl.legend()"
   ]
  },
  {
   "cell_type": "markdown",
   "metadata": {},
   "source": [
    "#### Now the difference is not so dramatic."
   ]
  },
  {
   "cell_type": "markdown",
   "metadata": {},
   "source": [
    "## Sensitivities\n",
    "\n",
    "Let's compute steady-state sensitivities to *kin*, by making 1% variations upper and lower."
   ]
  },
  {
   "cell_type": "markdown",
   "metadata": {},
   "source": [
    "### Steady-state concentration sensitivities to _kin_"
   ]
  },
  {
   "cell_type": "code",
   "execution_count": null,
   "metadata": {},
   "outputs": [],
   "source": [
    "f,s = pl.subplots(1,1, figsize=(9,6))\n",
    "\n",
    "# get the steady state at kin = 1\n",
    "\n",
    "model.parameters.vAin.kin = 1\n",
    "steady_state = model.solve(tf=50).last\n",
    "\n",
    "kin = 1\n",
    "values = np.array([kin*0.09, kin*1.01])\n",
    "delta = (values[1] - values[0]) / kin\n",
    "scan_kin = model.scan({'vAin.kin': values}, tf=50)\n",
    "\n",
    "names = 'A', 'B', 'C', 'D'\n",
    "colors = 'navy', 'darkgreen', 'firebrick', 'orange'\n",
    "ss = {name: [tc.last[name] for tc in scan_kin] for name in names}\n",
    "\n",
    "S = {}\n",
    "for name in names:\n",
    "    scaled = ss[name] / steady_state[name]\n",
    "    S[name] = (scaled[1] - scaled[0]) / delta\n",
    "\n",
    "pl.bar(S.keys(), S.values(), zorder=2, width=0.3, color=colors)\n",
    "pl.ylabel('$S(X_{ss}, k_{in})$', fontsize=16)\n",
    "pl.grid(zorder=-1)\n"
   ]
  },
  {
   "cell_type": "markdown",
   "metadata": {},
   "source": [
    "Sensitivities are close to one, but there are differences"
   ]
  },
  {
   "cell_type": "markdown",
   "metadata": {},
   "source": [
    "### Steady-state concentration sensitivities to $V_2$"
   ]
  },
  {
   "cell_type": "code",
   "execution_count": null,
   "metadata": {},
   "outputs": [],
   "source": [
    "f,s = pl.subplots(1,1, figsize=(9,6))\n",
    "\n",
    "# get the steady state at kin = 1\n",
    "\n",
    "model.parameters.vAin.kin = 1\n",
    "steady_state = model.solve(tf=50).last\n",
    "\n",
    "V = 0.5\n",
    "values = np.array([V*0.09, V*1.01])\n",
    "delta = (values[1] - values[0]) / V\n",
    "scan_v2V = model.scan({'v2.V': values}, tf=50)\n",
    "\n",
    "names = 'A', 'B', 'C', 'D'\n",
    "colors = 'navy', 'darkgreen', 'firebrick', 'orange'\n",
    "ss = {name: [tc.last[name] for tc in scan_v2V] for name in names}\n",
    "\n",
    "S = {}\n",
    "for name in names:\n",
    "    scaled = ss[name] / steady_state[name]\n",
    "    S[name] = (scaled[1] - scaled[0]) / delta\n",
    "\n",
    "pl.bar(S.keys(), S.values(), zorder=2, width=0.3, color=colors)\n",
    "pl.ylabel('$S(X_{ss}, V_2)$', fontsize=16)\n",
    "pl.grid(zorder=-1)\n"
   ]
  },
  {
   "cell_type": "markdown",
   "metadata": {},
   "source": [
    "Now the results are completely different!"
   ]
  },
  {
   "cell_type": "code",
   "execution_count": null,
   "metadata": {},
   "outputs": [],
   "source": []
  }
 ],
 "metadata": {
  "kernelspec": {
   "display_name": "Python 3",
   "language": "python",
   "name": "python3"
  },
  "language_info": {
   "codemirror_mode": {
    "name": "ipython",
    "version": 3
   },
   "file_extension": ".py",
   "mimetype": "text/x-python",
   "name": "python",
   "nbconvert_exporter": "python",
   "pygments_lexer": "ipython3",
   "version": "3.7.3"
  }
 },
 "nbformat": 4,
 "nbformat_minor": 1
}
