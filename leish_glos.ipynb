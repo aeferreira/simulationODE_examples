{
 "cells": [
  {
   "cell_type": "code",
   "execution_count": null,
   "metadata": {
    "slideshow": {
     "slide_type": "slide"
    }
   },
   "outputs": [],
   "source": [
    "%matplotlib inline"
   ]
  },
  {
   "cell_type": "code",
   "execution_count": null,
   "metadata": {
    "slideshow": {
     "slide_type": "slide"
    }
   },
   "outputs": [],
   "source": [
    "from matplotlib import pyplot as plt\n",
    "import numpy as np\n",
    "import seaborn as sns\n",
    "styles = ['seaborn-whitegrid', 'seaborn-poster']\n",
    "\n",
    "from stimator import read_model, Solutions"
   ]
  },
  {
   "cell_type": "markdown",
   "metadata": {
    "slideshow": {
     "slide_type": "slide"
    }
   },
   "source": [
    "# Sistema dos glioxalases em *L.infantum*"
   ]
  },
  {
   "cell_type": "markdown",
   "metadata": {
    "slideshow": {
     "slide_type": "slide"
    }
   },
   "source": [
    "## Exemplo de análise de sensibilidade\n",
    "\n",
    "Parte da publicação:\n",
    "\n",
    "Sousa Silva, M. , Ferreira, A.E.N., Tomás, A.M., Cordeiro, C., Ponces Freire, A. (2005)  Quantitative assessment of the glyoxalase pathway in Leishmania infantum as a therapeutic target by modelling and computer simulation. *FEBS Journal* **272(10)**: 2388-2398."
   ]
  },
  {
   "cell_type": "markdown",
   "metadata": {
    "slideshow": {
     "slide_type": "slide"
    }
   },
   "source": [
    "![Glyoxalases](images/glos_small.png)"
   ]
  },
  {
   "cell_type": "markdown",
   "metadata": {},
   "source": [
    "### Componentes:\n",
    "\n",
    "- Formação não enzimática de metilglioxal (MG) a partir dos fosfatos de triose da glicólise\n",
    "- Conjugação não enzimática (e reversível) com tripanotiono (T(SH)2)\n",
    "- Ação enzimática de Glioxalase I e de Glioxalase II, regenerando o tripanotiono e formando D-lactato.\n"
   ]
  },
  {
   "cell_type": "markdown",
   "metadata": {
    "slideshow": {
     "slide_type": "slide"
    }
   },
   "source": [
    "### Objetivo:\n",
    "\n",
    "Prever se algumas modificações experimentais da via\n",
    "\n",
    "- inibições de enzimas\n",
    "- aumento da formação de MG\n",
    "- interferência com a biosíntese de tiois\n",
    "\n",
    "poderá **aumentar** o estado estacionário de metilglioxal em células de *L. infantum*.\n"
   ]
  },
  {
   "cell_type": "code",
   "execution_count": null,
   "metadata": {
    "slideshow": {
     "slide_type": "slide"
    }
   },
   "outputs": [],
   "source": [
    "m = read_model(\"\"\"\n",
    "title Glyoxalase system\n",
    "\n",
    "vgen       : -> MG,            k1 * GAP + k2 * DHAP\n",
    "vconjf     : MG + TSH2 -> HTA, k3 * MG * TSH2\n",
    "vconjr     : HTA -> MG + TSH2, k4 * HTA\n",
    "vglo1      : HTA -> SDLTSH,    Vglo1 * HTA / (Kmglo1 + HTA)\n",
    "vglo2      : SDLTSH -> TSH2,   Vglo2 * SDLTSH  / (Kmglo2 + SDLTSH)\n",
    "\n",
    "k1          = 6.4e-3          # min-1\n",
    "k2          = 6.6e-4          # min-1\n",
    "GAP         = 0.0072          # mM\n",
    "DHAP        = 0.16            # mM\n",
    "\n",
    "k3          = 0.34            # mM-1 min-1\n",
    "k4          = 1.01            # min-1\n",
    "\n",
    "Vglo1       = 2 * 3.042       # mM min-1\n",
    "Vglo2       = 2 * 2.653       # mM min-1\n",
    "Kmglo1      = 2 * 0.253       # mM\n",
    "Kmglo2      = 2 * 0.0980      # mM\n",
    "\n",
    "init: (TSH2 = 2 * 0.45)\n",
    "!! HTA SDLTSH MG\n",
    "\"\"\")"
   ]
  },
  {
   "cell_type": "code",
   "execution_count": null,
   "metadata": {
    "slideshow": {
     "slide_type": "slide"
    }
   },
   "outputs": [],
   "source": [
    "m.solve(tf=40.0).plot(style=styles)"
   ]
  },
  {
   "cell_type": "markdown",
   "metadata": {
    "slideshow": {
     "slide_type": "slide"
    }
   },
   "source": [
    "Para avaliar o efeito do aumento do geração não enzimática de MG, introduzimos no modelo um factor, `fgen`, inicialmente igual a 1, que expressa variações relativas na velocidade `vgen` (considerada constante durante uma simulação).\n",
    "\n",
    "Desta forma podemos executar uma série de simulações para diferentes valores de `fgen`:"
   ]
  },
  {
   "cell_type": "code",
   "execution_count": null,
   "metadata": {
    "slideshow": {
     "slide_type": "slide"
    }
   },
   "outputs": [],
   "source": [
    "m_fgen = read_model(\"\"\"\n",
    "title Glyoxalase system\n",
    "\n",
    "vgen       : -> MG,            fgen * k1 * GAP + fgen * k2 * DHAP\n",
    "vconjf     : MG + TSH2 -> HTA, k3 * MG * TSH2\n",
    "vconjr     : HTA -> MG + TSH2, k4 * HTA\n",
    "vglo1      : HTA -> SDLTSH,    Vglo1 * HTA / (Kmglo1 + HTA)\n",
    "vglo2      : SDLTSH -> TSH2,   Vglo2 * SDLTSH  / (Kmglo2 + SDLTSH)\n",
    "\n",
    "fgen        = 1\n",
    "k1          = 6.4e-3          # min-1\n",
    "k2          = 6.6e-4          # min-1\n",
    "GAP         = 0.0072          # mM\n",
    "DHAP        = 0.16            # mM\n",
    "\n",
    "k3          = 0.34            # mM-1 min-1\n",
    "k4          = 1.01            # min-1\n",
    "\n",
    "Vglo1       = 2 * 3.042       # mM min-1\n",
    "Vglo2       = 2 * 2.653       # mM min-1\n",
    "Kmglo1      = 2 * 0.253       # mM\n",
    "Kmglo2      = 2 * 0.0980      # mM\n",
    "totalSH     = 2 * 0.45\n",
    "init: (TSH2 = 2 * 0.45)\n",
    "!! HTA SDLTSH MG\n",
    "\"\"\")\n",
    "\n",
    "sols = Solutions()"
   ]
  },
  {
   "cell_type": "code",
   "execution_count": null,
   "metadata": {
    "slideshow": {
     "slide_type": "slide"
    }
   },
   "outputs": [],
   "source": [
    "print('fgen MG')\n",
    "\n",
    "for fgen in 1, 2, 3, 4:\n",
    "    m_fgen.parameters.fgen = fgen\n",
    "    \n",
    "    s = m_fgen.solve(tf=40.0)\n",
    "    print (fgen, s.last['MG'])\n",
    "    sols += s"
   ]
  },
  {
   "cell_type": "code",
   "execution_count": null,
   "metadata": {
    "slideshow": {
     "slide_type": "slide"
    }
   },
   "outputs": [],
   "source": [
    "sols.plot(fig_size=(16,12), yrange=(0,0.003), titles=[f'fgen = {fgen}' for fgen in (1, 2, 3, 4)], style=styles)\n",
    "m_fgen.parameters.fgen=1"
   ]
  },
  {
   "cell_type": "markdown",
   "metadata": {
    "slideshow": {
     "slide_type": "slide"
    }
   },
   "source": [
    "A concentração \"final\" (estado estacionário) de MG parece ser proporcional a `fgen`."
   ]
  },
  {
   "cell_type": "markdown",
   "metadata": {
    "slideshow": {
     "slide_type": "slide"
    }
   },
   "source": [
    "Podemos aplicar a mesma técnica e avaliar o efeito de se variar:\n",
    "\n",
    "- a formação não enzimática de MG (`fgen`)\n",
    "- a atividade de GLO I (`fglo1`)\n",
    "- a atividade de GLO II (`fglo2`)\n",
    "- a concentração **total** de tiois, HTA + TSH2 + SDLTSH (`fSH`)"
   ]
  },
  {
   "cell_type": "code",
   "execution_count": null,
   "metadata": {
    "slideshow": {
     "slide_type": "slide"
    }
   },
   "outputs": [],
   "source": [
    "m_fs = read_model(\"\"\"\n",
    "title Glyoxalase system\n",
    "\n",
    "vgen       : -> MG,            fgen * k1 * GAP + fgen * k2 * DHAP\n",
    "vconjf     : MG + TSH2 -> HTA, k3 * MG * TSH2\n",
    "vconjr     : HTA -> MG + TSH2, k4 * HTA\n",
    "vglo1      : HTA -> SDLTSH,    fglo1 * Vglo1 * HTA / (Kmglo1 + HTA)\n",
    "vglo2      : SDLTSH -> TSH2,   fglo2 * Vglo2 * SDLTSH  / (Kmglo2 + SDLTSH)\n",
    "\n",
    "fgen        = 1\n",
    "fglo1       = 1\n",
    "fglo2       = 1\n",
    "fSH         = 1\n",
    "\n",
    "k1          = 6.4e-3          # min-1\n",
    "k2          = 6.6e-4          # min-1\n",
    "GAP         = 0.0072          # mM\n",
    "DHAP        = 0.16            # mM\n",
    "\n",
    "k3          = 0.34            # mM-1 min-1\n",
    "k4          = 1.01            # min-1\n",
    "\n",
    "Vglo1       = 2 * 3.042       # mM min-1\n",
    "Vglo2       = 2 * 2.653       # mM min-1\n",
    "Kmglo1      = 2 * 0.253       # mM\n",
    "Kmglo2      = 2 * 0.0980      # mM\n",
    "\n",
    "init: (TSH2 = 2 * 0.45)\n",
    "!! HTA SDLTSH MG\n",
    "\"\"\")"
   ]
  },
  {
   "cell_type": "code",
   "execution_count": null,
   "metadata": {
    "slideshow": {
     "slide_type": "slide"
    }
   },
   "outputs": [],
   "source": [
    "MG_ref = m_fs.solve(tf=40.0).last['MG']\n",
    "\n",
    "ratios = np.concatenate((np.linspace(0.05, 1, 20), np.linspace(1, 2, 20)))\n",
    "\n",
    "s = m_fs.scan({'fgen':ratios}, tf=40.0)\n",
    "MGs_gen = [solution.last['MG'] / MG_ref for solution in s]\n",
    "\n",
    "s = m_fs.scan({'fglo1':ratios}, tf=40.0)\n",
    "MGs_glo1 = [solution.last['MG'] / MG_ref for solution in s]\n",
    "    \n",
    "s = m_fs.scan({'fglo2':ratios}, tf=40.0)\n",
    "MGs_glo2 = [solution.last['MG'] / MG_ref for solution in s]\n",
    "\n",
    "ratiosSH = m_fs.init.TSH2 * ratios\n",
    "s = m_fs.scan({'init.TSH2':ratiosSH}, tf=40.0)\n",
    "MGs_SH = [solution.last['MG'] / MG_ref for solution in s]"
   ]
  },
  {
   "cell_type": "code",
   "execution_count": null,
   "metadata": {
    "slideshow": {
     "slide_type": "slide"
    }
   },
   "outputs": [],
   "source": [
    "colors = sns.color_palette('tab10', 4)\n",
    "with sns.axes_style(\"whitegrid\"):\n",
    "    with sns.plotting_context(\"notebook\", font_scale=1.5):\n",
    "        f, ax = plt.subplots(figsize=(8,8))\n",
    "        ax.set_aspect(1)\n",
    "        ax.plot(ratios, MGs_gen,  color=colors[0], label=\"gen  MG\", marker='o')\n",
    "        ax.plot(ratios, MGs_glo1, color=colors[1], label=\"GLO I\", marker='o')\n",
    "        ax.plot(ratios, MGs_glo2, color=colors[2], label=\"GLO II\", marker='o')\n",
    "        ax.plot(ratios, MGs_SH,   color=colors[3], label=\"-SH total\", marker='o')\n",
    "        ax.set(xlabel=\"$p/p_{ref}$\", ylabel=\"MG / MGref\", ylim=(0,2))\n",
    "        ax.plot([1],[1], 'ko', ms=10)\n",
    "        ax.legend(loc='upper center')"
   ]
  },
  {
   "cell_type": "code",
   "execution_count": null,
   "metadata": {
    "slideshow": {
     "slide_type": "slide"
    }
   },
   "outputs": [],
   "source": [
    "f"
   ]
  }
 ],
 "metadata": {
  "celltoolbar": "Slideshow",
  "kernelspec": {
   "display_name": "Python 3 (ipykernel)",
   "language": "python",
   "name": "python3"
  },
  "language_info": {
   "codemirror_mode": {
    "name": "ipython",
    "version": 3
   },
   "file_extension": ".py",
   "mimetype": "text/x-python",
   "name": "python",
   "nbconvert_exporter": "python",
   "pygments_lexer": "ipython3",
   "version": "3.8.5"
  },
  "rise": {
   "transition": "fade"
  }
 },
 "nbformat": 4,
 "nbformat_minor": 1
}
