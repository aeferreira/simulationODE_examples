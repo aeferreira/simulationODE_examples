{
 "cells": [
  {
   "cell_type": "code",
   "execution_count": null,
   "metadata": {
    "slideshow": {
     "slide_type": "slide"
    }
   },
   "outputs": [],
   "source": [
    "from matplotlib import pyplot as plt\n",
    "from stimator import read_model\n",
    "from ipywidgets import interact\n",
    "%matplotlib inline\n",
    "styles = ['seaborn-whitegrid', 'seaborn-poster']"
   ]
  },
  {
   "cell_type": "markdown",
   "metadata": {
    "slideshow": {
     "slide_type": "slide"
    }
   },
   "source": [
    "![](images/coop_inib.png)"
   ]
  },
  {
   "cell_type": "code",
   "execution_count": null,
   "metadata": {
    "slideshow": {
     "slide_type": "slide"
    }
   },
   "outputs": [],
   "source": [
    "model = read_model(\"\"\"\n",
    "title Linear pathway with feedback inhibition\n",
    "\n",
    "v2:   -> B, (V * A / (K + A)) * (Ki1 / (Ki2 + D**h)), K = 1, V = 2\n",
    "v3: B -> C, V * B / (K + B), K = 1, V = 3\n",
    "v4: C -> D, V * C / (K + C), K = 1, V = 2\n",
    "v5: D ->  , V * D / (K + D), K = 1, V = 2\n",
    "\n",
    "-> A = 1 + 0.5 * step(t, 40)\n",
    "\n",
    "h = 1\n",
    "Ki1 = 2\n",
    "Ki2 = 1\n",
    "\n",
    "init: B = 0.5, C = 1, D = 1\n",
    "\n",
    "!! A B C D \n",
    "\"\"\")"
   ]
  },
  {
   "cell_type": "code",
   "execution_count": null,
   "metadata": {
    "slideshow": {
     "slide_type": "slide"
    }
   },
   "outputs": [],
   "source": [
    "@interact(h=(0, 12, 0.5))\n",
    "def change_coop(h=0):\n",
    "    model.parameters.h = h\n",
    "    model.solve(tf=150).plot(fig_size=(12,8), yrange=(0,2), style=styles)\n",
    "    plt.show()"
   ]
  }
 ],
 "metadata": {
  "kernelspec": {
   "display_name": "Python 3 (ipykernel)",
   "language": "python",
   "name": "python3"
  },
  "language_info": {
   "codemirror_mode": {
    "name": "ipython",
    "version": 3
   },
   "file_extension": ".py",
   "mimetype": "text/x-python",
   "name": "python",
   "nbconvert_exporter": "python",
   "pygments_lexer": "ipython3",
   "version": "3.8.5"
  },
  "rise": {
   "transition": "fade"
  }
 },
 "nbformat": 4,
 "nbformat_minor": 1
}
